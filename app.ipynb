{
 "cells": [
  {
   "cell_type": "code",
   "execution_count": 1,
   "id": "efeff338-5a79-4a39-b3dd-1ec1ef4357a7",
   "metadata": {},
   "outputs": [
    {
     "name": "stderr",
     "output_type": "stream",
     "text": [
      "2025-10-21 05:35:13.799 WARNING streamlit.runtime.scriptrunner_utils.script_run_context: Thread 'MainThread': missing ScriptRunContext! This warning can be ignored when running in bare mode.\n",
      "2025-10-21 05:35:13.971 \n",
      "  \u001b[33m\u001b[1mWarning:\u001b[0m to view this Streamlit app on a browser, run it with the following\n",
      "  command:\n",
      "\n",
      "    streamlit run C:\\Users\\Usuario\\anaconda3\\Lib\\site-packages\\ipykernel_launcher.py [ARGUMENTS]\n",
      "2025-10-21 05:35:13.971 Thread 'MainThread': missing ScriptRunContext! This warning can be ignored when running in bare mode.\n",
      "2025-10-21 05:35:13.972 Thread 'MainThread': missing ScriptRunContext! This warning can be ignored when running in bare mode.\n",
      "2025-10-21 05:35:13.972 Thread 'MainThread': missing ScriptRunContext! This warning can be ignored when running in bare mode.\n"
     ]
    }
   ],
   "source": [
    "import pandas as pd\n",
    "import scipy.stats\n",
    "import streamlit as st\n",
    "import time\n",
    "\n",
    "# estas son variables de estado que se conservan cuando Streamlin vuelve a ejecutar este script\n",
    "if 'experiment_no' not in st.session_state:\n",
    "    st.session_state['experiment_no'] = 0\n",
    "\n",
    "if 'df_experiment_results' not in st.session_state:\n",
    "    st.session_state['df_experiment_results'] = pd.DataFrame(columns=['no', 'iteraciones', 'media'])\n",
    "\n",
    "st.header('Lanzar una moneda')\n",
    "\n",
    "chart = st.line_chart([0.5])\n",
    "\n",
    "def toss_coin(n):\n",
    "\n",
    "    trial_outcomes = scipy.stats.bernoulli.rvs(p=0.5, size=n)\n",
    "\n",
    "    mean = None\n",
    "    outcome_no = 0\n",
    "    outcome_1_count = 0\n",
    "\n",
    "    for r in trial_outcomes:\n",
    "        outcome_no +=1\n",
    "        if r == 1:\n",
    "            outcome_1_count += 1\n",
    "        mean = outcome_1_count / outcome_no\n",
    "        chart.add_rows([mean])\n",
    "        time.sleep(0.05)\n",
    "\n",
    "    return mean\n",
    "\n",
    "number_of_trials = st.slider('¿Número de intentos?', 1, 1000, 10)\n",
    "start_button = st.button('Ejecutar')\n",
    "\n",
    "if start_button:\n",
    "    st.write(f'Experimento con {number_of_trials} intentos en curso.')\n",
    "    st.session_state['experiment_no'] += 1\n",
    "    mean = toss_coin(number_of_trials)\n",
    "    st.session_state['df_experiment_results'] = pd.concat([\n",
    "        st.session_state['df_experiment_results'],\n",
    "        pd.DataFrame(data=[[st.session_state['experiment_no'],\n",
    "                            number_of_trials,\n",
    "                            mean]],\n",
    "                     columns=['no', 'iteraciones', 'media'])\n",
    "        ],\n",
    "        axis=0)\n",
    "    st.session_state['df_experiment_results'] = st.session_state['df_experiment_results'].reset_index(drop=True)\n",
    "\n",
    "st.write(st.session_state['df_experiment_results'])"
   ]
  },
  {
   "cell_type": "code",
   "execution_count": null,
   "id": "448bd4cc-0562-4690-bbe3-1bf01b7cb08e",
   "metadata": {},
   "outputs": [],
   "source": []
  }
 ],
 "metadata": {
  "kernelspec": {
   "display_name": "Python [conda env:base] *",
   "language": "python",
   "name": "conda-base-py"
  },
  "language_info": {
   "codemirror_mode": {
    "name": "ipython",
    "version": 3
   },
   "file_extension": ".py",
   "mimetype": "text/x-python",
   "name": "python",
   "nbconvert_exporter": "python",
   "pygments_lexer": "ipython3",
   "version": "3.13.5"
  }
 },
 "nbformat": 4,
 "nbformat_minor": 5
}
